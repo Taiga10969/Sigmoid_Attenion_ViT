{
 "cells": [
  {
   "cell_type": "code",
   "execution_count": 2,
   "metadata": {},
   "outputs": [],
   "source": [
    "import json"
   ]
  },
  {
   "cell_type": "code",
   "execution_count": 6,
   "metadata": {},
   "outputs": [],
   "source": [
    "dataset = 'cub200_2011'\n",
    "json_file_path = f\"./evaluations/eval_data_{dataset}.json\"\n",
    "\n",
    "with open(json_file_path, 'r') as file:\n",
    "    eval_data = json.load(file)"
   ]
  },
  {
   "cell_type": "code",
   "execution_count": 7,
   "metadata": {},
   "outputs": [
    {
     "data": {
      "text/plain": [
       "dict_keys(['run_cub200_2011_FT', 'run_cub200_2011_HITL_lambda_001', 'run_cub200_2011_HITL_lambda_005', 'run_cub200_2011_HITL_lambda_010', 'run_cub200_2011_HITL_lambda_050', 'run_cub200_2011_HITL_lambda_100', 'run_cub200_2011_HITL_lambda_500', 'run_cub200_2011_HITL_lambda_1000', 'run_cub200_2011_HITL_lambda_5000', 'run_cub200_2011_HITL_lambda_10000', 'run_cub200_2011_HITL_lambda_15000', 'run_cub200_2011_HITL_denoise_lambda_001', 'run_cub200_2011_HITL_denoise_lambda_005', 'run_cub200_2011_HITL_denoise_lambda_010', 'run_cub200_2011_HITL_denoise_lambda_050', 'run_cub200_2011_HITL_denoise_lambda_100', 'run_cub200_2011_HITL_denoise_lambda_500', 'run_cub200_2011_HITL_denoise_lambda_1000', 'run_cub200_2011_HITL_denoise_lambda_5000', 'run_cub200_2011_HITL_denoise_lambda_10000', 'run_cub200_2011_HITL_denoise_lambda_15000'])"
      ]
     },
     "execution_count": 7,
     "metadata": {},
     "output_type": "execute_result"
    }
   ],
   "source": [
    "eval_data.keys()"
   ]
  },
  {
   "cell_type": "code",
   "execution_count": 14,
   "metadata": {},
   "outputs": [
    {
     "name": "stdout",
     "output_type": "stream",
     "text": [
      "len(base_miss) :  434\n",
      "len(compare_miss) :  405\n"
     ]
    }
   ],
   "source": [
    "base_key = \"run_cub200_2011_FT\"\n",
    "\n",
    "compare_key = \"run_cub200_2011_HITL_lambda_010\"\n",
    "\n",
    "base_miss = eval_data[base_key]\n",
    "compare_miss = eval_data[compare_key]\n",
    "\n",
    "print(\"len(base_miss) : \", len(base_miss))\n",
    "print(\"len(compare_miss) : \", len(compare_miss))"
   ]
  },
  {
   "cell_type": "code",
   "execution_count": 21,
   "metadata": {},
   "outputs": [
    {
     "name": "stdout",
     "output_type": "stream",
     "text": [
      "len(improve_list) :  64\n",
      "improve_list :  [10, 19, 112, 114, 119, 259, 263, 265, 287, 345, 366, 436, 456, 497, 539, 565, 566, 582, 585, 711, 736, 741, 765, 766, 773, 804, 807, 833, 921, 944, 1003, 1012, 1014, 1071, 1097, 1299, 1376, 1384, 1394, 1419, 1461, 1485, 1629, 1658, 1668, 1691, 1727, 1732, 1843, 1863, 1927, 1932, 1949, 1959, 1976, 1987, 2020, 2064, 2086, 2089, 2130, 2131, 2286, 2293]\n"
     ]
    }
   ],
   "source": [
    "improve_list = []\n",
    "for miss in base_miss:\n",
    "    if miss in compare_miss:\n",
    "        pass\n",
    "    else:\n",
    "        improve_list.append(miss)\n",
    "\n",
    "print(\"len(improve_list) : \", len(improve_list))\n",
    "print(\"improve_list : \", improve_list)"
   ]
  },
  {
   "cell_type": "code",
   "execution_count": 22,
   "metadata": {},
   "outputs": [
    {
     "name": "stdout",
     "output_type": "stream",
     "text": [
      "len(worse_list) :  35\n",
      "worse_list :  [187, 269, 276, 308, 337, 435, 459, 534, 589, 744, 746, 829, 957, 965, 1232, 1256, 1258, 1345, 1349, 1380, 1484, 1530, 1533, 1578, 1587, 1614, 1702, 1710, 1728, 1734, 1769, 1818, 1844, 2010, 2081]\n"
     ]
    }
   ],
   "source": [
    "worse_list = []\n",
    "for miss in compare_miss:\n",
    "    if miss in base_miss:\n",
    "        pass\n",
    "    else:\n",
    "        worse_list.append(miss)\n",
    "\n",
    "print(\"len(worse_list) : \", len(worse_list))\n",
    "print(\"worse_list : \", worse_list)"
   ]
  }
 ],
 "metadata": {
  "kernelspec": {
   "display_name": "Python 3",
   "language": "python",
   "name": "python3"
  },
  "language_info": {
   "codemirror_mode": {
    "name": "ipython",
    "version": 3
   },
   "file_extension": ".py",
   "mimetype": "text/x-python",
   "name": "python",
   "nbconvert_exporter": "python",
   "pygments_lexer": "ipython3",
   "version": "3.10.12"
  }
 },
 "nbformat": 4,
 "nbformat_minor": 2
}
